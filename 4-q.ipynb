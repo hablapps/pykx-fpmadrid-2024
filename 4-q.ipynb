{
 "cells": [
  {
   "cell_type": "markdown",
   "id": "d7610088-f131-4749-9e69-3e65cca68b85",
   "metadata": {},
   "source": [
    "# 😎 4. Now I Know Kung Fu"
   ]
  },
  {
   "cell_type": "code",
   "execution_count": null,
   "id": "95ffee0a-1d07-4759-9d2b-104dcc0a1df8",
   "metadata": {},
   "outputs": [],
   "source": [
    "import pykx as kx"
   ]
  },
  {
   "cell_type": "markdown",
   "id": "04276d0b-f532-4ce5-b515-609ab350cb0d",
   "metadata": {},
   "source": [
    "## Traffic"
   ]
  },
  {
   "cell_type": "code",
   "execution_count": null,
   "id": "a62e7f8b-ed1d-4eeb-a085-449ddc8a38c5",
   "metadata": {},
   "outputs": [],
   "source": [
    "%%q\n",
    "t:(\"IPSJS\";enlist csv) 0: `$\":data/traffic.csv\";\n",
    "t:`fecha xasc select avg carga by fecha from t where error=`N;\n",
    "t"
   ]
  },
  {
   "cell_type": "markdown",
   "id": "23322048-5cdd-4ea9-b2c4-c132656b0a39",
   "metadata": {},
   "source": [
    "## Weather"
   ]
  },
  {
   "cell_type": "code",
   "execution_count": null,
   "id": "91052605-80a6-45a5-99fd-b6dcc11bd045",
   "metadata": {},
   "outputs": [],
   "source": [
    "%%q\n",
    "w:(\"DUIFFFFFFFF\";enlist csv) 0: `$\":data/weather.csv\";\n",
    "w:`fecha xasc select avg precipitacion by fecha+hora from w where not null precipitacion;\n",
    "w"
   ]
  },
  {
   "cell_type": "markdown",
   "id": "11749b95-4f89-4752-99e8-2ae043453771",
   "metadata": {},
   "source": [
    "## All Together"
   ]
  },
  {
   "cell_type": "code",
   "execution_count": null,
   "id": "89184805-93f9-4974-a668-783bf7f52999",
   "metadata": {},
   "outputs": [],
   "source": [
    "%%q\n",
    "tw:aj[`fecha;t;w]\n",
    "tw"
   ]
  },
  {
   "cell_type": "markdown",
   "id": "01b4a4c5-7aac-4559-809a-e79797f954ed",
   "metadata": {},
   "source": [
    "## Model"
   ]
  },
  {
   "cell_type": "code",
   "execution_count": null,
   "id": "bc5e435b-5098-4083-bae2-0641c76871f4",
   "metadata": {},
   "outputs": [],
   "source": [
    "def model(traffic_weather):\n",
    "\n",
    "    from sklearn.preprocessing import MinMaxScaler\n",
    "    from sklearn.model_selection import train_test_split\n",
    "    from tensorflow.keras.models import Sequential\n",
    "    from tensorflow.keras.layers import Dense\n",
    "    import matplotlib.pyplot as plt\n",
    "    \n",
    "    traffic_weather = traffic_weather.pd().reset_index()\n",
    "    \n",
    "    to_quarter = lambda x: int((x.hour * 60 + x.minute) / 15)\n",
    "    traffic_weather['hora'] = traffic_weather['fecha'].dt.time.apply(to_quarter)\n",
    "    \n",
    "    X = traffic_weather[['hora', 'precipitacion']]\n",
    "    y = traffic_weather['carga']\n",
    "    \n",
    "    scaler = MinMaxScaler()\n",
    "    X_normalized = scaler.fit_transform(X)\n",
    "    \n",
    "    X_train, X_test, y_train, y_test = train_test_split(X_normalized, y, test_size=0.2, random_state=42)\n",
    "    \n",
    "    model = Sequential()\n",
    "    model.add(Dense(64, input_dim=X_train.shape[1], activation='relu'))\n",
    "    model.add(Dense(32, activation='relu'))\n",
    "    model.add(Dense(1, activation='linear'))\n",
    "    \n",
    "    model.compile(optimizer='adam', loss='mean_squared_error')\n",
    "    history = model.fit(X_train, y_train, epochs=50, batch_size=32, validation_data=(X_test, y_test), verbose=1)\n",
    "    predictions = model.predict(X_test)\n",
    "    \n",
    "    plt.scatter(y_test, predictions, color='blue')\n",
    "    plt.plot([min(y_test), max(y_test)], [min(y_test), max(y_test)], linestyle='--', color='red', linewidth=2)  # Diagonal line for reference\n",
    "    plt.xlabel('Actual Traffic Load')\n",
    "    plt.ylabel('Predicted Traffic Load')\n",
    "    plt.title('Actual vs. Predicted Traffic Load')\n",
    "    plt.show()"
   ]
  },
  {
   "cell_type": "code",
   "execution_count": null,
   "id": "26e362ff-bbc0-4bf2-b630-dec7e55650b7",
   "metadata": {},
   "outputs": [],
   "source": [
    "%%q\n",
    ".pykx.get[`model] tw"
   ]
  },
  {
   "cell_type": "markdown",
   "id": "7b8ebb51-6f52-4612-87ac-06c25189691e",
   "metadata": {},
   "source": [
    "## What Next? (out of scope)\n",
    "* What if performance problems arise in the Python libraries?\n",
    "* Exploit KX ecosystem (ml library, dashboards, etc.)\n",
    "* Implement your own functionality & contribute!"
   ]
  },
  {
   "cell_type": "code",
   "execution_count": null,
   "id": "722fa85c-659f-4ecb-ac6d-4ebf10051ada",
   "metadata": {},
   "outputs": [],
   "source": []
  }
 ],
 "metadata": {
  "kernelspec": {
   "display_name": "pykx",
   "language": "python",
   "name": "pykx"
  },
  "language_info": {
   "codemirror_mode": {
    "name": "ipython",
    "version": 3
   },
   "file_extension": ".py",
   "mimetype": "text/x-python",
   "name": "python",
   "nbconvert_exporter": "python",
   "pygments_lexer": "ipython3",
   "version": "3.8.16"
  }
 },
 "nbformat": 4,
 "nbformat_minor": 5
}
