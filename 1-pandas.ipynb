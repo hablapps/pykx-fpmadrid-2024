{
 "cells": [
  {
   "cell_type": "markdown",
   "id": "2e4e62d1-0bef-4fee-91dd-c0c928a76a83",
   "metadata": {},
   "source": [
    "# 🐍 1. In Python We Trust"
   ]
  },
  {
   "cell_type": "markdown",
   "id": "4fe353ef-e4b5-44ea-8923-fc9888e0c5f8",
   "metadata": {},
   "source": [
    "You've just embraced kdb+ as a data platform and you've no idea about q. PyKX is here to help you!"
   ]
  },
  {
   "cell_type": "code",
   "execution_count": null,
   "id": "44e83bf9-9bc1-4292-8db1-1147957be5a7",
   "metadata": {},
   "outputs": [],
   "source": [
    "import pykx as kx"
   ]
  },
  {
   "cell_type": "markdown",
   "id": "96474e60-21a2-42f4-9765-9a1eae57c19e",
   "metadata": {},
   "source": [
    "## Traffic"
   ]
  },
  {
   "cell_type": "markdown",
   "id": "9fbd0322-8824-4758-a4fd-1a44335a5ac0",
   "metadata": {},
   "source": [
    "You follow the documentation to load the traffic set using `csv`. However, it returns a rather peculiar PyKX object!"
   ]
  },
  {
   "cell_type": "code",
   "execution_count": null,
   "id": "90b4e15d-c11a-4d96-ad6d-9b3895588baf",
   "metadata": {},
   "outputs": [],
   "source": [
    "traffic = kx.q.read.csv(\"data/traffic.csv\", \"IPSJS\", \",\", True)\n",
    "type(traffic)"
   ]
  },
  {
   "cell_type": "markdown",
   "id": "1c792424-b363-49b0-b004-3d39ee57a7f0",
   "metadata": {},
   "source": [
    "No worries! You've read that using `pd`, you can get back your beloved Pandas dataframe."
   ]
  },
  {
   "cell_type": "code",
   "execution_count": null,
   "id": "bd28ce32-498b-4d52-b7a3-b3c52a7ce09e",
   "metadata": {},
   "outputs": [],
   "source": [
    "traffic = traffic.pd()\n",
    "traffic"
   ]
  },
  {
   "cell_type": "markdown",
   "id": "b314ca50-1c6c-4175-bcd6-4d662aa82e47",
   "metadata": {},
   "source": [
    "Let's clean the data and combine all the station information to gain an overall view of the traffic in Madrid."
   ]
  },
  {
   "cell_type": "code",
   "execution_count": null,
   "id": "60351dca-7af5-4f6f-a79f-772bafbde43e",
   "metadata": {},
   "outputs": [],
   "source": [
    "traffic = traffic[traffic['error'] == 'N']\n",
    "traffic = traffic.set_index('fecha')\n",
    "traffic_mad = traffic[['carga']].groupby(['fecha']).mean()\n",
    "traffic_mad"
   ]
  },
  {
   "cell_type": "markdown",
   "id": "5a00ea1f-5da9-4a69-afe5-2b1a7f954880",
   "metadata": {},
   "source": [
    "## Weather"
   ]
  },
  {
   "cell_type": "markdown",
   "id": "d3a06a61-1059-4a2e-8043-80cb9eaf6799",
   "metadata": {},
   "source": [
    "Now, we follow similar steps to load the weather data and retain only the precipitation data."
   ]
  },
  {
   "cell_type": "code",
   "execution_count": null,
   "id": "3e770290-5636-49bf-982f-90ded3f1ff1e",
   "metadata": {},
   "outputs": [],
   "source": [
    "weather = kx.q.read.csv(\"data/weather.csv\", \"DUIFFFFFFFF\", \",\", True)\n",
    "weather = weather.pd()\n",
    "weather['fecha'] = weather['fecha'] + weather['hora']\n",
    "weather = weather[weather['precipitacion'].notnull()]\n",
    "weather = weather.set_index(['fecha'])\n",
    "weather_mad = weather[['precipitacion']].groupby(['fecha']).mean()\n",
    "weather_mad"
   ]
  },
  {
   "cell_type": "markdown",
   "id": "31d4a30f-c704-4cc2-831f-067348dc4bd9",
   "metadata": {},
   "source": [
    "## All Together"
   ]
  },
  {
   "cell_type": "markdown",
   "id": "2456bb60-5507-4737-9ed6-ceec2c735e19",
   "metadata": {},
   "source": [
    "Just one final step remains to merge both tables..."
   ]
  },
  {
   "cell_type": "code",
   "execution_count": null,
   "id": "e6a304d3-c3d2-418e-9902-628849064d74",
   "metadata": {},
   "outputs": [],
   "source": [
    "import pandas as pd\n",
    "traffic_weather = pd.merge_asof(traffic_mad, weather_mad, on='fecha', direction='backward')\n",
    "traffic_weather"
   ]
  },
  {
   "cell_type": "markdown",
   "id": "cf3deb2e-4b43-4fc4-b092-fdb5a9fb2dc5",
   "metadata": {},
   "source": [
    "## Model"
   ]
  },
  {
   "cell_type": "markdown",
   "id": "a0d73ec2-fb9c-4d0c-9640-f13a2a01d9f4",
   "metadata": {},
   "source": [
    "The Python ecosystem is exceptionally rich, particularly in terms of data-related libraries: sklearn, tensorflow, matplotlib, etc."
   ]
  },
  {
   "cell_type": "code",
   "execution_count": null,
   "id": "6fecda70-5a9f-4582-bf2a-6ac47e7fa66e",
   "metadata": {},
   "outputs": [],
   "source": [
    "from sklearn.preprocessing import MinMaxScaler\n",
    "from sklearn.model_selection import train_test_split\n",
    "from tensorflow.keras.models import Sequential\n",
    "from tensorflow.keras.layers import Dense\n",
    "import matplotlib.pyplot as plt"
   ]
  },
  {
   "cell_type": "markdown",
   "id": "cd93a8e4-935a-41c7-b1fd-cd4849ece97c",
   "metadata": {},
   "source": [
    "We leverage them to construct a neural network for predicting traffic."
   ]
  },
  {
   "cell_type": "markdown",
   "id": "c1c12f55-1d28-405e-b02d-3a2d78990946",
   "metadata": {},
   "source": [
    "<div class=\"alert alert-warning\">\n",
    "While using a classic neural network to predict traffic is discouraged, we should have opted for an LSTM, as described in the original post. However, we chose to keep this snippet as simple as possible.\n",
    "</div>"
   ]
  },
  {
   "cell_type": "code",
   "execution_count": null,
   "id": "f7756c09-bcdb-4176-ab7b-7f8b9e3f360d",
   "metadata": {},
   "outputs": [],
   "source": [
    "to_quarter = lambda x: int((x.hour * 60 + x.minute) / 15)\n",
    "traffic_weather['hora'] = traffic_weather['fecha'].dt.time.apply(to_quarter)\n",
    "\n",
    "X = traffic_weather[['hora', 'precipitacion']]\n",
    "y = traffic_weather['carga']\n",
    "\n",
    "scaler = MinMaxScaler()\n",
    "X_normalized = scaler.fit_transform(X)\n",
    "\n",
    "X_train, X_test, y_train, y_test = train_test_split(X_normalized, y, test_size=0.2, random_state=42)\n",
    "\n",
    "model = Sequential()\n",
    "model.add(Dense(64, input_dim=X_train.shape[1], activation='relu'))\n",
    "model.add(Dense(32, activation='relu'))\n",
    "model.add(Dense(1, activation='linear'))\n",
    "\n",
    "model.compile(optimizer='adam', loss='mean_squared_error')\n",
    "history = model.fit(X_train, y_train, epochs=50, batch_size=32, validation_data=(X_test, y_test), verbose=1)\n",
    "predictions = model.predict(X_test)"
   ]
  },
  {
   "cell_type": "markdown",
   "id": "91d39b81-1740-4f15-ab8d-fa342ed42ee4",
   "metadata": {},
   "source": [
    "Now, we analyze the predictions to gain insights"
   ]
  },
  {
   "cell_type": "code",
   "execution_count": null,
   "id": "e3587223-fd08-4e30-ac64-cdaabbcf0735",
   "metadata": {},
   "outputs": [],
   "source": [
    "plt.scatter(y_test, predictions, color='blue')\n",
    "plt.plot([min(y_test), max(y_test)], [min(y_test), max(y_test)], linestyle='--', color='red', linewidth=2)  # Diagonal line for reference\n",
    "plt.xlabel('Actual Traffic Load')\n",
    "plt.ylabel('Predicted Traffic Load')\n",
    "plt.title('Actual vs. Predicted Traffic Load')\n",
    "plt.show()"
   ]
  },
  {
   "cell_type": "markdown",
   "id": "82cf2cae-23e1-482f-a673-6c1e0b850334",
   "metadata": {},
   "source": [
    "## What Next?\n",
    "* Easy Maintenance for Current Process\n",
    "* Not Using Kdb to the Fullest"
   ]
  },
  {
   "cell_type": "code",
   "execution_count": null,
   "id": "d1f8d881-9f77-4197-8818-3bab02a403b3",
   "metadata": {},
   "outputs": [],
   "source": []
  }
 ],
 "metadata": {
  "kernelspec": {
   "display_name": "pykx",
   "language": "python",
   "name": "pykx"
  },
  "language_info": {
   "codemirror_mode": {
    "name": "ipython",
    "version": 3
   },
   "file_extension": ".py",
   "mimetype": "text/x-python",
   "name": "python",
   "nbconvert_exporter": "python",
   "pygments_lexer": "ipython3",
   "version": "3.8.16"
  }
 },
 "nbformat": 4,
 "nbformat_minor": 5
}
